{
 "nbformat": 4,
 "nbformat_minor": 0,
 "metadata": {
  "colab": {
   "provenance": []
  },
  "kernelspec": {
   "name": "python3",
   "language": "python",
   "display_name": "Python 3 (ipykernel)"
  },
  "language_info": {
   "name": "python"
  }
 },
 "cells": [
  {
   "cell_type": "code",
   "source": [
    "import pandas as pd\n",
    "import seaborn as sns\n",
    "import matplotlib.pyplot as plt"
   ],
   "metadata": {
    "colab": {
     "base_uri": "https://localhost:8080/"
    },
    "id": "jI8mvIP4Byug",
    "outputId": "871e88fb-13dc-42a4-d727-72d88be5675b",
    "ExecuteTime": {
     "end_time": "2024-04-28T19:16:37.209072Z",
     "start_time": "2024-04-28T19:16:31.028569Z"
    }
   },
   "execution_count": 2,
   "outputs": []
  },
  {
   "cell_type": "code",
   "source": [
    "file_name = 'usa-real-estate-dataset/realtor-data.zip.csv'\n",
    "data = pd.read_csv('realtor-data.zip.csv')"
   ],
   "metadata": {
    "id": "wjWBXS1OMvUh",
    "ExecuteTime": {
     "end_time": "2024-04-28T19:16:38.893355Z",
     "start_time": "2024-04-28T19:16:37.206875Z"
    }
   },
   "execution_count": 3,
   "outputs": []
  },
  {
   "cell_type": "code",
   "source": [
    "data.info()"
   ],
   "metadata": {
    "colab": {
     "base_uri": "https://localhost:8080/"
    },
    "id": "PQWwHwNmOo7I",
    "outputId": "f8c86f5f-9029-49c0-8ce5-ac7eb15861df",
    "ExecuteTime": {
     "end_time": "2024-04-28T19:16:38.913258Z",
     "start_time": "2024-04-28T19:16:38.897694Z"
    }
   },
   "execution_count": 4,
   "outputs": [
    {
     "name": "stdout",
     "output_type": "stream",
     "text": [
      "<class 'pandas.core.frame.DataFrame'>\n",
      "RangeIndex: 2226382 entries, 0 to 2226381\n",
      "Data columns (total 12 columns):\n",
      " #   Column          Dtype  \n",
      "---  ------          -----  \n",
      " 0   brokered_by     float64\n",
      " 1   status          object \n",
      " 2   price           float64\n",
      " 3   bed             float64\n",
      " 4   bath            float64\n",
      " 5   acre_lot        float64\n",
      " 6   street          float64\n",
      " 7   city            object \n",
      " 8   state           object \n",
      " 9   zip_code        float64\n",
      " 10  house_size      float64\n",
      " 11  prev_sold_date  object \n",
      "dtypes: float64(8), object(4)\n",
      "memory usage: 203.8+ MB\n"
     ]
    }
   ]
  },
  {
   "cell_type": "code",
   "execution_count": 13,
   "outputs": [
    {
     "name": "stdout",
     "output_type": "stream",
     "text": [
      "brokered_by brokered_by\n",
      "False    0.997964\n",
      "True     0.002036\n",
      "Name: proportion, dtype: float64\n",
      "status status\n",
      "False    1.0\n",
      "Name: proportion, dtype: float64\n",
      "price price\n",
      "False    0.999308\n",
      "True     0.000692\n",
      "Name: proportion, dtype: float64\n",
      "bed bed\n",
      "False    0.783812\n",
      "True     0.216188\n",
      "Name: proportion, dtype: float64\n",
      "bath bath\n",
      "False    0.770133\n",
      "True     0.229867\n",
      "Name: proportion, dtype: float64\n",
      "acre_lot acre_lot\n",
      "False    0.853759\n",
      "True     0.146241\n",
      "Name: proportion, dtype: float64\n",
      "street street\n",
      "False    0.995119\n",
      "True     0.004881\n",
      "Name: proportion, dtype: float64\n",
      "city city\n",
      "False    0.999368\n",
      "True     0.000632\n",
      "Name: proportion, dtype: float64\n",
      "state state\n",
      "False    0.999996\n",
      "True     0.000004\n",
      "Name: proportion, dtype: float64\n",
      "zip_code zip_code\n",
      "False    0.999866\n",
      "True     0.000134\n",
      "Name: proportion, dtype: float64\n",
      "house_size house_size\n",
      "False    0.74466\n",
      "True     0.25534\n",
      "Name: proportion, dtype: float64\n",
      "prev_sold_date prev_sold_date\n",
      "False    0.670184\n",
      "True     0.329816\n",
      "Name: proportion, dtype: float64\n"
     ]
    }
   ],
   "source": [
    "for feature in data.columns:\n",
    "    print(feature, data[feature].isna().value_counts(\"True\"))"
   ],
   "metadata": {
    "collapsed": false,
    "ExecuteTime": {
     "end_time": "2024-04-28T19:21:25.310405Z",
     "start_time": "2024-04-28T19:21:24.897873Z"
    }
   }
  },
  {
   "cell_type": "markdown",
   "source": [
    "There is a lot of missing value for house_size, prev_sold_date, bed, bath, acre_lot. We will consider imputing strategy for these features.\n",
    "\n",
    "The other features have very small proportion of missing values. We can consider dropping strategy for these features. "
   ],
   "metadata": {
    "collapsed": false
   }
  },
  {
   "cell_type": "code",
   "execution_count": 15,
   "outputs": [],
   "source": [
    "data = data.dropna(subset=[\"brokered_by\", \"price\", \"street\", \"city\", \"state\", \"zip_code\"])"
   ],
   "metadata": {
    "collapsed": false,
    "ExecuteTime": {
     "end_time": "2024-04-28T19:27:14.675360Z",
     "start_time": "2024-04-28T19:27:14.131770Z"
    }
   }
  },
  {
   "cell_type": "code",
   "source": [
    "data.head(20)"
   ],
   "metadata": {
    "colab": {
     "base_uri": "https://localhost:8080/",
     "height": 677
    },
    "id": "CTcfBw0Lmx_8",
    "outputId": "f94d63a7-de1e-47f9-fac5-f902e474ee45",
    "ExecuteTime": {
     "end_time": "2024-04-28T19:16:38.914787Z",
     "start_time": "2024-04-28T19:16:38.901586Z"
    }
   },
   "execution_count": 5,
   "outputs": [
    {
     "data": {
      "text/plain": "    brokered_by    status     price  bed  bath  acre_lot     street  \\\n0      103378.0  for_sale  105000.0  3.0   2.0      0.12  1962661.0   \n1       52707.0  for_sale   80000.0  4.0   2.0      0.08  1902874.0   \n2      103379.0  for_sale   67000.0  2.0   1.0      0.15  1404990.0   \n3       31239.0  for_sale  145000.0  4.0   2.0      0.10  1947675.0   \n4       34632.0  for_sale   65000.0  6.0   2.0      0.05   331151.0   \n5      103378.0  for_sale  179000.0  4.0   3.0      0.46  1850806.0   \n6        1205.0  for_sale   50000.0  3.0   1.0      0.20  1298094.0   \n7       50739.0  for_sale   71600.0  3.0   2.0      0.08  1048466.0   \n8       81909.0  for_sale  100000.0  2.0   1.0      0.09   734904.0   \n9       65672.0  for_sale  300000.0  5.0   3.0      7.46  1946226.0   \n10      52707.0  for_sale   89000.0  3.0   2.0     13.39  1902814.0   \n11      52707.0  for_sale  150000.0  3.0   2.0      0.08  1773902.0   \n12      46019.0  for_sale  155000.0  3.0   2.0      0.10  1946165.0   \n13      52707.0  for_sale   79000.0  5.0   2.0      0.12  1761024.0   \n14      88441.0  for_sale  649000.0  5.0   5.0      0.74  1879215.0   \n15      50739.0  for_sale  120000.0  3.0   2.0      0.08    17854.0   \n16      51202.0  for_sale  235000.0  4.0   4.0      0.22    13687.0   \n17      12876.0  for_sale  105000.0  3.0   2.0      0.08  1868721.0   \n18     109906.0  for_sale  575000.0  3.0   2.0      3.88  1312671.0   \n19      46019.0  for_sale  140000.0  6.0   3.0      0.25     6710.0   \n\n             city        state  zip_code  house_size prev_sold_date  \n0        Adjuntas  Puerto Rico     601.0       920.0            NaN  \n1        Adjuntas  Puerto Rico     601.0      1527.0            NaN  \n2      Juana Diaz  Puerto Rico     795.0       748.0            NaN  \n3           Ponce  Puerto Rico     731.0      1800.0            NaN  \n4        Mayaguez  Puerto Rico     680.0         NaN            NaN  \n5   San Sebastian  Puerto Rico     612.0      2520.0            NaN  \n6          Ciales  Puerto Rico     639.0      2040.0            NaN  \n7           Ponce  Puerto Rico     731.0      1050.0            NaN  \n8           Ponce  Puerto Rico     730.0      1092.0            NaN  \n9      Las Marias  Puerto Rico     670.0      5403.0            NaN  \n10        Isabela  Puerto Rico     662.0      1106.0            NaN  \n11     Juana Diaz  Puerto Rico     795.0      1045.0            NaN  \n12          Lares  Puerto Rico     669.0      4161.0            NaN  \n13         Utuado  Puerto Rico     641.0      1620.0            NaN  \n14          Ponce  Puerto Rico     731.0      2677.0            NaN  \n15          Yauco  Puerto Rico     698.0      1100.0            NaN  \n16       Mayaguez  Puerto Rico     680.0      3450.0            NaN  \n17          Ponce  Puerto Rico     728.0      1500.0            NaN  \n18  San Sebastian  Puerto Rico     685.0      4000.0            NaN  \n19         Anasco  Puerto Rico     610.0      1230.0            NaN  ",
      "text/html": "<div>\n<style scoped>\n    .dataframe tbody tr th:only-of-type {\n        vertical-align: middle;\n    }\n\n    .dataframe tbody tr th {\n        vertical-align: top;\n    }\n\n    .dataframe thead th {\n        text-align: right;\n    }\n</style>\n<table border=\"1\" class=\"dataframe\">\n  <thead>\n    <tr style=\"text-align: right;\">\n      <th></th>\n      <th>brokered_by</th>\n      <th>status</th>\n      <th>price</th>\n      <th>bed</th>\n      <th>bath</th>\n      <th>acre_lot</th>\n      <th>street</th>\n      <th>city</th>\n      <th>state</th>\n      <th>zip_code</th>\n      <th>house_size</th>\n      <th>prev_sold_date</th>\n    </tr>\n  </thead>\n  <tbody>\n    <tr>\n      <th>0</th>\n      <td>103378.0</td>\n      <td>for_sale</td>\n      <td>105000.0</td>\n      <td>3.0</td>\n      <td>2.0</td>\n      <td>0.12</td>\n      <td>1962661.0</td>\n      <td>Adjuntas</td>\n      <td>Puerto Rico</td>\n      <td>601.0</td>\n      <td>920.0</td>\n      <td>NaN</td>\n    </tr>\n    <tr>\n      <th>1</th>\n      <td>52707.0</td>\n      <td>for_sale</td>\n      <td>80000.0</td>\n      <td>4.0</td>\n      <td>2.0</td>\n      <td>0.08</td>\n      <td>1902874.0</td>\n      <td>Adjuntas</td>\n      <td>Puerto Rico</td>\n      <td>601.0</td>\n      <td>1527.0</td>\n      <td>NaN</td>\n    </tr>\n    <tr>\n      <th>2</th>\n      <td>103379.0</td>\n      <td>for_sale</td>\n      <td>67000.0</td>\n      <td>2.0</td>\n      <td>1.0</td>\n      <td>0.15</td>\n      <td>1404990.0</td>\n      <td>Juana Diaz</td>\n      <td>Puerto Rico</td>\n      <td>795.0</td>\n      <td>748.0</td>\n      <td>NaN</td>\n    </tr>\n    <tr>\n      <th>3</th>\n      <td>31239.0</td>\n      <td>for_sale</td>\n      <td>145000.0</td>\n      <td>4.0</td>\n      <td>2.0</td>\n      <td>0.10</td>\n      <td>1947675.0</td>\n      <td>Ponce</td>\n      <td>Puerto Rico</td>\n      <td>731.0</td>\n      <td>1800.0</td>\n      <td>NaN</td>\n    </tr>\n    <tr>\n      <th>4</th>\n      <td>34632.0</td>\n      <td>for_sale</td>\n      <td>65000.0</td>\n      <td>6.0</td>\n      <td>2.0</td>\n      <td>0.05</td>\n      <td>331151.0</td>\n      <td>Mayaguez</td>\n      <td>Puerto Rico</td>\n      <td>680.0</td>\n      <td>NaN</td>\n      <td>NaN</td>\n    </tr>\n    <tr>\n      <th>5</th>\n      <td>103378.0</td>\n      <td>for_sale</td>\n      <td>179000.0</td>\n      <td>4.0</td>\n      <td>3.0</td>\n      <td>0.46</td>\n      <td>1850806.0</td>\n      <td>San Sebastian</td>\n      <td>Puerto Rico</td>\n      <td>612.0</td>\n      <td>2520.0</td>\n      <td>NaN</td>\n    </tr>\n    <tr>\n      <th>6</th>\n      <td>1205.0</td>\n      <td>for_sale</td>\n      <td>50000.0</td>\n      <td>3.0</td>\n      <td>1.0</td>\n      <td>0.20</td>\n      <td>1298094.0</td>\n      <td>Ciales</td>\n      <td>Puerto Rico</td>\n      <td>639.0</td>\n      <td>2040.0</td>\n      <td>NaN</td>\n    </tr>\n    <tr>\n      <th>7</th>\n      <td>50739.0</td>\n      <td>for_sale</td>\n      <td>71600.0</td>\n      <td>3.0</td>\n      <td>2.0</td>\n      <td>0.08</td>\n      <td>1048466.0</td>\n      <td>Ponce</td>\n      <td>Puerto Rico</td>\n      <td>731.0</td>\n      <td>1050.0</td>\n      <td>NaN</td>\n    </tr>\n    <tr>\n      <th>8</th>\n      <td>81909.0</td>\n      <td>for_sale</td>\n      <td>100000.0</td>\n      <td>2.0</td>\n      <td>1.0</td>\n      <td>0.09</td>\n      <td>734904.0</td>\n      <td>Ponce</td>\n      <td>Puerto Rico</td>\n      <td>730.0</td>\n      <td>1092.0</td>\n      <td>NaN</td>\n    </tr>\n    <tr>\n      <th>9</th>\n      <td>65672.0</td>\n      <td>for_sale</td>\n      <td>300000.0</td>\n      <td>5.0</td>\n      <td>3.0</td>\n      <td>7.46</td>\n      <td>1946226.0</td>\n      <td>Las Marias</td>\n      <td>Puerto Rico</td>\n      <td>670.0</td>\n      <td>5403.0</td>\n      <td>NaN</td>\n    </tr>\n    <tr>\n      <th>10</th>\n      <td>52707.0</td>\n      <td>for_sale</td>\n      <td>89000.0</td>\n      <td>3.0</td>\n      <td>2.0</td>\n      <td>13.39</td>\n      <td>1902814.0</td>\n      <td>Isabela</td>\n      <td>Puerto Rico</td>\n      <td>662.0</td>\n      <td>1106.0</td>\n      <td>NaN</td>\n    </tr>\n    <tr>\n      <th>11</th>\n      <td>52707.0</td>\n      <td>for_sale</td>\n      <td>150000.0</td>\n      <td>3.0</td>\n      <td>2.0</td>\n      <td>0.08</td>\n      <td>1773902.0</td>\n      <td>Juana Diaz</td>\n      <td>Puerto Rico</td>\n      <td>795.0</td>\n      <td>1045.0</td>\n      <td>NaN</td>\n    </tr>\n    <tr>\n      <th>12</th>\n      <td>46019.0</td>\n      <td>for_sale</td>\n      <td>155000.0</td>\n      <td>3.0</td>\n      <td>2.0</td>\n      <td>0.10</td>\n      <td>1946165.0</td>\n      <td>Lares</td>\n      <td>Puerto Rico</td>\n      <td>669.0</td>\n      <td>4161.0</td>\n      <td>NaN</td>\n    </tr>\n    <tr>\n      <th>13</th>\n      <td>52707.0</td>\n      <td>for_sale</td>\n      <td>79000.0</td>\n      <td>5.0</td>\n      <td>2.0</td>\n      <td>0.12</td>\n      <td>1761024.0</td>\n      <td>Utuado</td>\n      <td>Puerto Rico</td>\n      <td>641.0</td>\n      <td>1620.0</td>\n      <td>NaN</td>\n    </tr>\n    <tr>\n      <th>14</th>\n      <td>88441.0</td>\n      <td>for_sale</td>\n      <td>649000.0</td>\n      <td>5.0</td>\n      <td>5.0</td>\n      <td>0.74</td>\n      <td>1879215.0</td>\n      <td>Ponce</td>\n      <td>Puerto Rico</td>\n      <td>731.0</td>\n      <td>2677.0</td>\n      <td>NaN</td>\n    </tr>\n    <tr>\n      <th>15</th>\n      <td>50739.0</td>\n      <td>for_sale</td>\n      <td>120000.0</td>\n      <td>3.0</td>\n      <td>2.0</td>\n      <td>0.08</td>\n      <td>17854.0</td>\n      <td>Yauco</td>\n      <td>Puerto Rico</td>\n      <td>698.0</td>\n      <td>1100.0</td>\n      <td>NaN</td>\n    </tr>\n    <tr>\n      <th>16</th>\n      <td>51202.0</td>\n      <td>for_sale</td>\n      <td>235000.0</td>\n      <td>4.0</td>\n      <td>4.0</td>\n      <td>0.22</td>\n      <td>13687.0</td>\n      <td>Mayaguez</td>\n      <td>Puerto Rico</td>\n      <td>680.0</td>\n      <td>3450.0</td>\n      <td>NaN</td>\n    </tr>\n    <tr>\n      <th>17</th>\n      <td>12876.0</td>\n      <td>for_sale</td>\n      <td>105000.0</td>\n      <td>3.0</td>\n      <td>2.0</td>\n      <td>0.08</td>\n      <td>1868721.0</td>\n      <td>Ponce</td>\n      <td>Puerto Rico</td>\n      <td>728.0</td>\n      <td>1500.0</td>\n      <td>NaN</td>\n    </tr>\n    <tr>\n      <th>18</th>\n      <td>109906.0</td>\n      <td>for_sale</td>\n      <td>575000.0</td>\n      <td>3.0</td>\n      <td>2.0</td>\n      <td>3.88</td>\n      <td>1312671.0</td>\n      <td>San Sebastian</td>\n      <td>Puerto Rico</td>\n      <td>685.0</td>\n      <td>4000.0</td>\n      <td>NaN</td>\n    </tr>\n    <tr>\n      <th>19</th>\n      <td>46019.0</td>\n      <td>for_sale</td>\n      <td>140000.0</td>\n      <td>6.0</td>\n      <td>3.0</td>\n      <td>0.25</td>\n      <td>6710.0</td>\n      <td>Anasco</td>\n      <td>Puerto Rico</td>\n      <td>610.0</td>\n      <td>1230.0</td>\n      <td>NaN</td>\n    </tr>\n  </tbody>\n</table>\n</div>"
     },
     "execution_count": 5,
     "metadata": {},
     "output_type": "execute_result"
    }
   ]
  },
  {
   "cell_type": "code",
   "execution_count": 6,
   "outputs": [
    {
     "name": "stdout",
     "output_type": "stream",
     "text": [
      "brokered_by 110143\n",
      "status 3\n",
      "price 102137\n",
      "bed 99\n",
      "bath 86\n",
      "acre_lot 16057\n",
      "street 2001358\n",
      "city 20098\n",
      "state 55\n",
      "zip_code 30334\n",
      "house_size 12061\n",
      "prev_sold_date 14954\n"
     ]
    }
   ],
   "source": [
    "for feature in data.columns:\n",
    "    print(feature, data[feature].nunique())"
   ],
   "metadata": {
    "collapsed": false,
    "ExecuteTime": {
     "end_time": "2024-04-28T19:16:39.444362Z",
     "start_time": "2024-04-28T19:16:38.916424Z"
    }
   }
  },
  {
   "cell_type": "markdown",
   "source": [
    "Since there is so many unique values for bed and bath. We suspect that there must be some issues with it (mistyped, wrong format)"
   ],
   "metadata": {
    "collapsed": false
   }
  },
  {
   "cell_type": "code",
   "execution_count": 7,
   "outputs": [
    {
     "data": {
      "text/plain": "[1.0,\n 2.0,\n 3.0,\n 4.0,\n 5.0,\n 6.0,\n 7.0,\n 8.0,\n 9.0,\n nan,\n 10.0,\n 11.0,\n 12.0,\n 13.0,\n 14.0,\n 15.0,\n 16.0,\n 17.0,\n 18.0,\n 19.0,\n 20.0,\n 21.0,\n 22.0,\n 23.0,\n 24.0,\n 25.0,\n 26.0,\n 27.0,\n 28.0,\n 29.0,\n 30.0,\n 31.0,\n 32.0,\n 33.0,\n 34.0,\n 35.0,\n 36.0,\n 37.0,\n 38.0,\n 39.0,\n 40.0,\n 41.0,\n 42.0,\n 43.0,\n 44.0,\n 45.0,\n 46.0,\n 47.0,\n 48.0,\n 49.0,\n 50.0,\n 52.0,\n 53.0,\n 54.0,\n 55.0,\n 56.0,\n 57.0,\n 60.0,\n 61.0,\n 62.0,\n 63.0,\n 64.0,\n 66.0,\n 67.0,\n 68.0,\n 69.0,\n 70.0,\n 71.0,\n 72.0,\n 73.0,\n 74.0,\n 75.0,\n 76.0,\n 80.0,\n 82.0,\n 84.0,\n 86.0,\n 88.0,\n 90.0,\n 93.0,\n 96.0,\n 98.0,\n 99.0,\n 100.0,\n 102.0,\n 108.0,\n 110.0,\n 111.0,\n 114.0,\n 120.0,\n 123.0,\n 136.0,\n 142.0,\n 148.0,\n 190.0,\n 210.0,\n 212.0,\n 222.0,\n 444.0,\n 473.0]"
     },
     "execution_count": 7,
     "metadata": {},
     "output_type": "execute_result"
    }
   ],
   "source": [
    "sorted(data.bed.unique())"
   ],
   "metadata": {
    "collapsed": false,
    "ExecuteTime": {
     "end_time": "2024-04-28T19:16:39.461871Z",
     "start_time": "2024-04-28T19:16:39.441171Z"
    }
   }
  },
  {
   "cell_type": "code",
   "source": [
    "data[data.bed == 444]"
   ],
   "metadata": {
    "colab": {
     "base_uri": "https://localhost:8080/",
     "height": 112
    },
    "id": "EafAsuT6O7CP",
    "outputId": "36c3f8e8-92cb-4cd1-e368-014482f62988",
    "ExecuteTime": {
     "end_time": "2024-04-28T19:16:39.473617Z",
     "start_time": "2024-04-28T19:16:39.458431Z"
    }
   },
   "execution_count": 8,
   "outputs": [
    {
     "data": {
      "text/plain": "         brokered_by    status     price    bed   bath  acre_lot    street  \\\n1379204      54823.0  for_sale  440000.0  444.0  222.0      0.34  118525.0   \n2188928      54823.0      sold  430000.0  444.0  222.0      0.34  118525.0   \n\n              city   state  zip_code  house_size prev_sold_date  \n1379204  Sublimity  Oregon   97385.0      1700.0     1990-08-15  \n2188928  Sublimity  Oregon   97385.0      1700.0     2022-04-29  ",
      "text/html": "<div>\n<style scoped>\n    .dataframe tbody tr th:only-of-type {\n        vertical-align: middle;\n    }\n\n    .dataframe tbody tr th {\n        vertical-align: top;\n    }\n\n    .dataframe thead th {\n        text-align: right;\n    }\n</style>\n<table border=\"1\" class=\"dataframe\">\n  <thead>\n    <tr style=\"text-align: right;\">\n      <th></th>\n      <th>brokered_by</th>\n      <th>status</th>\n      <th>price</th>\n      <th>bed</th>\n      <th>bath</th>\n      <th>acre_lot</th>\n      <th>street</th>\n      <th>city</th>\n      <th>state</th>\n      <th>zip_code</th>\n      <th>house_size</th>\n      <th>prev_sold_date</th>\n    </tr>\n  </thead>\n  <tbody>\n    <tr>\n      <th>1379204</th>\n      <td>54823.0</td>\n      <td>for_sale</td>\n      <td>440000.0</td>\n      <td>444.0</td>\n      <td>222.0</td>\n      <td>0.34</td>\n      <td>118525.0</td>\n      <td>Sublimity</td>\n      <td>Oregon</td>\n      <td>97385.0</td>\n      <td>1700.0</td>\n      <td>1990-08-15</td>\n    </tr>\n    <tr>\n      <th>2188928</th>\n      <td>54823.0</td>\n      <td>sold</td>\n      <td>430000.0</td>\n      <td>444.0</td>\n      <td>222.0</td>\n      <td>0.34</td>\n      <td>118525.0</td>\n      <td>Sublimity</td>\n      <td>Oregon</td>\n      <td>97385.0</td>\n      <td>1700.0</td>\n      <td>2022-04-29</td>\n    </tr>\n  </tbody>\n</table>\n</div>"
     },
     "execution_count": 8,
     "metadata": {},
     "output_type": "execute_result"
    }
   ]
  },
  {
   "cell_type": "code",
   "source": [],
   "metadata": {
    "colab": {
     "base_uri": "https://localhost:8080/",
     "height": 1000
    },
    "id": "Fa9YLaDlQb-H",
    "outputId": "12b0803d-0b04-4d86-bcea-af1e705c14a8",
    "ExecuteTime": {
     "end_time": "2024-04-28T19:16:39.473937Z",
     "start_time": "2024-04-28T19:16:39.465645Z"
    }
   },
   "execution_count": 8,
   "outputs": []
  },
  {
   "cell_type": "code",
   "execution_count": 8,
   "outputs": [],
   "source": [],
   "metadata": {
    "collapsed": false,
    "ExecuteTime": {
     "end_time": "2024-04-28T19:16:39.474327Z",
     "start_time": "2024-04-28T19:16:39.468259Z"
    }
   }
  }
 ]
}
