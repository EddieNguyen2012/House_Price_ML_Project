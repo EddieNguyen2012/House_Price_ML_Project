{
 "nbformat": 4,
 "nbformat_minor": 0,
 "metadata": {
  "colab": {
   "provenance": []
  },
  "kernelspec": {
   "name": "python3",
   "language": "python",
   "display_name": "Python 3 (ipykernel)"
  },
  "language_info": {
   "name": "python"
  }
 },
 "cells": [
  {
   "cell_type": "code",
   "source": [
    "import numpy as np\n",
    "import pandas as pd\n",
    "import seaborn as sns\n",
    "import matplotlib.pyplot as plt\n",
    "import plotly.graph_objects as go\n",
    "import plotly.express as px\n",
    "import numpy as np"
   ],
   "metadata": {
    "colab": {
     "base_uri": "https://localhost:8080/"
    },
    "id": "jI8mvIP4Byug",
    "outputId": "871e88fb-13dc-42a4-d727-72d88be5675b",
    "ExecuteTime": {
     "end_time": "2024-04-29T06:48:21.148751Z",
     "start_time": "2024-04-29T06:48:21.066669Z"
    }
   },
   "execution_count": 145,
   "outputs": []
  },
  {
   "cell_type": "code",
   "source": [
    "file_name = 'usa-real-estate-dataset/realtor-data.zip.csv'\n",
    "data = pd.read_csv('realtor-data.zip.csv')"
   ],
   "metadata": {
    "id": "wjWBXS1OMvUh",
    "ExecuteTime": {
     "end_time": "2024-04-29T06:48:23.064726Z",
     "start_time": "2024-04-29T06:48:21.153856Z"
    }
   },
   "execution_count": 146,
   "outputs": []
  },
  {
   "cell_type": "code",
   "source": [
    "data.info()"
   ],
   "metadata": {
    "colab": {
     "base_uri": "https://localhost:8080/"
    },
    "id": "PQWwHwNmOo7I",
    "outputId": "f8c86f5f-9029-49c0-8ce5-ac7eb15861df",
    "ExecuteTime": {
     "end_time": "2024-04-29T06:48:23.065489Z",
     "start_time": "2024-04-29T06:48:23.063082Z"
    }
   },
   "execution_count": 147,
   "outputs": [
    {
     "name": "stdout",
     "output_type": "stream",
     "text": [
      "<class 'pandas.core.frame.DataFrame'>\n",
      "RangeIndex: 2226382 entries, 0 to 2226381\n",
      "Data columns (total 12 columns):\n",
      " #   Column          Dtype  \n",
      "---  ------          -----  \n",
      " 0   brokered_by     float64\n",
      " 1   status          object \n",
      " 2   price           float64\n",
      " 3   bed             float64\n",
      " 4   bath            float64\n",
      " 5   acre_lot        float64\n",
      " 6   street          float64\n",
      " 7   city            object \n",
      " 8   state           object \n",
      " 9   zip_code        float64\n",
      " 10  house_size      float64\n",
      " 11  prev_sold_date  object \n",
      "dtypes: float64(8), object(4)\n",
      "memory usage: 203.8+ MB\n"
     ]
    }
   ]
  },
  {
   "cell_type": "code",
   "execution_count": 148,
   "outputs": [
    {
     "name": "stdout",
     "output_type": "stream",
     "text": [
      "brokered_by brokered_by\n",
      "False    0.997964\n",
      "True     0.002036\n",
      "Name: proportion, dtype: float64\n",
      "status status\n",
      "False    1.0\n",
      "Name: proportion, dtype: float64\n",
      "price price\n",
      "False    0.999308\n",
      "True     0.000692\n",
      "Name: proportion, dtype: float64\n",
      "bed bed\n",
      "False    0.783812\n",
      "True     0.216188\n",
      "Name: proportion, dtype: float64\n",
      "bath bath\n",
      "False    0.770133\n",
      "True     0.229867\n",
      "Name: proportion, dtype: float64\n",
      "acre_lot acre_lot\n",
      "False    0.853759\n",
      "True     0.146241\n",
      "Name: proportion, dtype: float64\n",
      "street street\n",
      "False    0.995119\n",
      "True     0.004881\n",
      "Name: proportion, dtype: float64\n",
      "city city\n",
      "False    0.999368\n",
      "True     0.000632\n",
      "Name: proportion, dtype: float64\n",
      "state state\n",
      "False    0.999996\n",
      "True     0.000004\n",
      "Name: proportion, dtype: float64\n",
      "zip_code zip_code\n",
      "False    0.999866\n",
      "True     0.000134\n",
      "Name: proportion, dtype: float64\n",
      "house_size house_size\n",
      "False    0.74466\n",
      "True     0.25534\n",
      "Name: proportion, dtype: float64\n",
      "prev_sold_date prev_sold_date\n",
      "False    0.670184\n",
      "True     0.329816\n",
      "Name: proportion, dtype: float64\n"
     ]
    }
   ],
   "source": [
    "for feature in data.columns:\n",
    "    print(feature, data[feature].isna().value_counts(\"True\"))"
   ],
   "metadata": {
    "collapsed": false,
    "ExecuteTime": {
     "end_time": "2024-04-29T06:48:23.410880Z",
     "start_time": "2024-04-29T06:48:23.065952Z"
    }
   }
  },
  {
   "cell_type": "markdown",
   "source": [
    "There is a lot of missing value for house_size, prev_sold_date, bed, bath, acre_lot. We will consider imputing strategy for these features.\n",
    "\n",
    "The other features have very small proportion of missing values. We can consider dropping strategy for these features. "
   ],
   "metadata": {
    "collapsed": false
   }
  },
  {
   "cell_type": "code",
   "execution_count": 149,
   "outputs": [],
   "source": [
    "data.dropna(subset=[\"brokered_by\", \"price\", \"street\", \"city\", \"state\", \"zip_code\"], inplace=True)"
   ],
   "metadata": {
    "collapsed": false,
    "ExecuteTime": {
     "end_time": "2024-04-29T06:48:23.747119Z",
     "start_time": "2024-04-29T06:48:23.390102Z"
    }
   }
  },
  {
   "cell_type": "code",
   "source": [
    "data.shape"
   ],
   "metadata": {
    "colab": {
     "base_uri": "https://localhost:8080/",
     "height": 677
    },
    "id": "CTcfBw0Lmx_8",
    "outputId": "f94d63a7-de1e-47f9-fac5-f902e474ee45",
    "ExecuteTime": {
     "end_time": "2024-04-29T06:48:23.747699Z",
     "start_time": "2024-04-29T06:48:23.736255Z"
    }
   },
   "execution_count": 150,
   "outputs": [
    {
     "data": {
      "text/plain": "(2207981, 12)"
     },
     "execution_count": 150,
     "metadata": {},
     "output_type": "execute_result"
    }
   ]
  },
  {
   "cell_type": "code",
   "execution_count": 151,
   "outputs": [
    {
     "name": "stdout",
     "output_type": "stream",
     "text": [
      "brokered_by 109654\n",
      "status 3\n",
      "price 101530\n",
      "bed 99\n",
      "bath 86\n",
      "acre_lot 15841\n",
      "street 1995163\n",
      "city 19675\n",
      "state 55\n",
      "zip_code 30251\n",
      "house_size 12018\n",
      "prev_sold_date 14937\n"
     ]
    }
   ],
   "source": [
    "for feature in data.columns:\n",
    "    print(feature, data[feature].nunique())"
   ],
   "metadata": {
    "collapsed": false,
    "ExecuteTime": {
     "end_time": "2024-04-29T06:48:24.329179Z",
     "start_time": "2024-04-29T06:48:23.739114Z"
    }
   }
  },
  {
   "cell_type": "markdown",
   "source": [
    "Since there is so many unique values for bed and bath. We suspect that there must be some issues with it (mistyped, wrong format)"
   ],
   "metadata": {
    "collapsed": false
   }
  },
  {
   "cell_type": "code",
   "execution_count": 152,
   "outputs": [
    {
     "data": {
      "text/plain": "<seaborn.axisgrid.FacetGrid at 0x169d4ae10>"
     },
     "execution_count": 152,
     "metadata": {},
     "output_type": "execute_result"
    },
    {
     "data": {
      "text/plain": "<Figure size 500x500 with 1 Axes>",
      "image/png": "[encoded data removed]"
     },
     "metadata": {},
     "output_type": "display_data"
    }
   ],
   "source": [
    "sns.relplot(\n",
    "    data,\n",
    "    x=\"bed\",\n",
    "    y=\"bath\",\n",
    "    # title=\"# of bed and # of bath correlation\"\n",
    ")\n",
    "\n",
    "# Replace with px.scatter before submit"
   ],
   "metadata": {
    "collapsed": false,
    "ExecuteTime": {
     "end_time": "2024-04-29T06:48:27.513955Z",
     "start_time": "2024-04-29T06:48:24.312439Z"
    }
   }
  },
  {
   "cell_type": "markdown",
   "source": [
    "Based on the graph, we can see that there are a lot of unrealistic values for both beds and baths. There are even house with 1 bed and 460 bathrooms. Moreover, this dataset is collected from a real estate website. We can safely say that office and buildings may not be included in this dataset. Hence, we assume that a house generally, only has maximum of 9 beds and 9 baths.\n",
    "\n",
    "Strategy: Format values for bed and bath to only take the first digit of the value (e.g: 333 baths = 3 baths). Exclude 0 values for both baths and beds. Moreover, a house can have more bathrooms than bedrooms. However, we assume the relationship that the difference between bed no. and bath no. must be <= (bed no. / 2)."
   ],
   "metadata": {
    "collapsed": false
   }
  },
  {
   "cell_type": "code",
   "execution_count": 153,
   "outputs": [],
   "source": [
    "# Cleaning bed and bath mistype.\n",
    "def clean_bed_and_bath(x):\n",
    "    while x >= 10:\n",
    "        x = x // 10\n",
    "    return x\n",
    "\n",
    "data[\"bed\"] = data[\"bed\"].apply(clean_bed_and_bath)\n",
    "data[\"bath\"] = data[\"bath\"].apply(clean_bed_and_bath)\n",
    "ideal_data = data[(np.abs(data[\"bed\"] - data[\"bath\"]) <= (data[\"bed\"] / 2))]"
   ],
   "metadata": {
    "collapsed": false,
    "ExecuteTime": {
     "end_time": "2024-04-29T06:48:28.398957Z",
     "start_time": "2024-04-29T06:48:27.487146Z"
    }
   }
  },
  {
   "cell_type": "code",
   "source": [
    "ideal_data[\"bed\"].isna().value_counts(\"True\") "
   ],
   "metadata": {
    "colab": {
     "base_uri": "https://localhost:8080/",
     "height": 112
    },
    "id": "EafAsuT6O7CP",
    "outputId": "36c3f8e8-92cb-4cd1-e368-014482f62988",
    "ExecuteTime": {
     "end_time": "2024-04-29T06:49:54.543033Z",
     "start_time": "2024-04-29T06:49:54.529686Z"
    }
   },
   "execution_count": 161,
   "outputs": [
    {
     "data": {
      "text/plain": "bed\nFalse    1.0\nName: proportion, dtype: float64"
     },
     "execution_count": 161,
     "metadata": {},
     "output_type": "execute_result"
    }
   ]
  },
  {
   "cell_type": "markdown",
   "source": [
    "This is the dataset that fits our assumptions perfectly. However, it excluded all the nan values of beds and baths. We will use this dataset to train linear regression model to impute bed and bath for the original dataset."
   ],
   "metadata": {
    "collapsed": false
   }
  },
  {
   "cell_type": "code",
   "source": [],
   "metadata": {
    "colab": {
     "base_uri": "https://localhost:8080/",
     "height": 1000
    },
    "id": "Fa9YLaDlQb-H",
    "outputId": "12b0803d-0b04-4d86-bcea-af1e705c14a8",
    "ExecuteTime": {
     "end_time": "2024-04-29T06:48:28.513169Z",
     "start_time": "2024-04-29T06:48:28.494076Z"
    }
   },
   "execution_count": 154,
   "outputs": []
  },
  {
   "cell_type": "code",
   "execution_count": 154,
   "outputs": [],
   "source": [],
   "metadata": {
    "collapsed": false,
    "ExecuteTime": {
     "end_time": "2024-04-29T06:48:28.513565Z",
     "start_time": "2024-04-29T06:48:28.497325Z"
    }
   }
  }
 ]
}
